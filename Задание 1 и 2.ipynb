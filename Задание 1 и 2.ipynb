{
 "cells": [
  {
   "cell_type": "markdown",
   "id": "8799883c",
   "metadata": {},
   "source": [
    "# Задание 1"
   ]
  },
  {
   "cell_type": "markdown",
   "id": "f11a6ecd",
   "metadata": {},
   "source": [
    "### Составьте список KPI метрик необходимых для понимания качества интернет-казино.Ответ аргументируйте."
   ]
  },
  {
   "cell_type": "markdown",
   "id": "899f04d4",
   "metadata": {},
   "source": [
    "**1. Чистый игровой доход (NGR)**\n",
    "\n",
    "Чистый игровой доход отражает реальную прибыль казино, очищенную от всех роялти и иных операционных расходов. Для любого бизнеса будет в приоритете срабатывать в плюс.\n",
    "\n",
    "**2. Player Retention**\n",
    "\n",
    "Важно, чтобы игрок задерживался в игре, как можно дольше и приносил прибыль. Таким образом маркетинговые затраты будут распределяться на большее количество игроков.\n",
    "\n",
    "**3. Общая сумма депозитов (TDS)**\n",
    "\n",
    "Если данная сумма активно повышается, то это говорит про отличную стратегию проекта.\n",
    "\n",
    "**4. Conversion Rate (CR):**\n",
    "\n",
    "Помогает оценить, насколько успешно казино привлекает платящих игроков.\n",
    "\n",
    "**5. Lifetime Value (LTV):**\n",
    "\n",
    "Оценка средней прибыли, которую приносит один игрок за время своей активности. Показывает долгосрочную доходность."
   ]
  },
  {
   "cell_type": "markdown",
   "id": "c54781d4",
   "metadata": {},
   "source": [
    "# Задание 2"
   ]
  },
  {
   "cell_type": "markdown",
   "id": "aca46185",
   "metadata": {},
   "source": [
    "● который посчитает количество уникальных устройств и уникальных пользователей по месяцам в период с Июля-2023 по Декабрь-2023\n",
    "(включительно);"
   ]
  },
  {
   "cell_type": "markdown",
   "id": "3c390282",
   "metadata": {},
   "source": [
    " SELECT toMonth(event_timestamp) AS month\n",
    "        ,COUNT(distinct gadget_id) AS unique_gadgets\n",
    "        ,COUNT(distinct player_id) AS unique_users\n",
    " FROM event_log \n",
    " WHERE event_timestamp BETWEEN '2023-07-01' and '2024-01-01'\n",
    " GROUP BY month\n",
    " ORDER BY month;"
   ]
  },
  {
   "cell_type": "markdown",
   "id": "54ae3915",
   "metadata": {},
   "source": [
    " ● который выведет ТОП-5 стран по количеству зарегистрированных пользователей в 2023 году;"
   ]
  },
  {
   "cell_type": "markdown",
   "id": "1a19f71b",
   "metadata": {},
   "source": [
    " SELECT country_code\n",
    "        ,COUNT(DISTINCT player_id) AS player_count\n",
    " FROM user_info\n",
    " WHERE record_created BETWEEN '2023-01-01' AND '2024-01-01'\n",
    " GROUP BY country_code\n",
    " ORDER BY player_count DESC\n",
    " LIMIT 5;"
   ]
  },
  {
   "cell_type": "markdown",
   "id": "a5767f19",
   "metadata": {},
   "source": [
    "● который выведет ТОП-5 пользователей по общей сумме платежей,и по каждой стране за 2023 год;"
   ]
  },
  {
   "cell_type": "markdown",
   "id": "cf8a0304",
   "metadata": {},
   "source": [
    " WITH payment AS (\n",
    "    SELECT \n",
    "        player_id\n",
    "        ,country_code\n",
    "        ,SUM(amount_RUB) AS payment_sum\n",
    "    FROM payment_records\n",
    "    JOIN user_info USING (player_id)\n",
    "    WHERE payment_completed BETWEEN '2023-01-01' AND '2024-01-01'\n",
    "          AND payment_successful = 1\n",
    "    GROUP BY player_id, country_code\n",
    ")\n",
    "    \n",
    " SELECT \n",
    "    country_code\n",
    "    ,player_id\n",
    "    ,total_payment\n",
    " FROM payment \n",
    " ORDER BY total_payment DESC, country_code\n",
    " LIMIT 5;"
   ]
  },
  {
   "cell_type": "markdown",
   "id": "7d94bf7d",
   "metadata": {},
   "source": [
    "● который посчитает среднюю продолжительности сессии на сайте за 2023 год;"
   ]
  },
  {
   "cell_type": "markdown",
   "id": "f3cc9e70",
   "metadata": {},
   "source": [
    " SELECT AVG(session_time) AS avg_session_time\n",
    " FROM\n",
    " (SELECT play_session_id\n",
    "         ,MAX(event_timestamp) - MIN(event_timestamp) as session_time\n",
    "  FROM event_log\n",
    "  WHERE event_timestamp BETWEEN '2023-01-01' AND '2024-01-01'\n",
    "  GROUP BY play_session_id) AS play_session_info;"
   ]
  },
  {
   "cell_type": "markdown",
   "id": "f3808721",
   "metadata": {},
   "source": [
    "● который посчитает количество уникальных пользователей, посетивших сайт (DAU) по месяцам\n",
    "Аналитика нужна за период с Июля-2023 по Декабрь-2023 (включительно);"
   ]
  },
  {
   "cell_type": "markdown",
   "id": "c80e298f",
   "metadata": {},
   "source": [
    " SELECT toMonth(event_timestamp) AS month\n",
    "       ,COUNT(distinct player_id) AS coun_players\n",
    " WHERE player_id in\n",
    " (SELECT player_id\n",
    " FROM user_info\n",
    " WHERE email_verified != '1970-01-01')\n",
    " AND event_timestamp BETWEEN '2023-07-01' AND '2024-01-01'\n",
    " GROUP BY month, \n",
    " ORDER BY month;"
   ]
  },
  {
   "cell_type": "markdown",
   "id": "be2a9d9e",
   "metadata": {},
   "source": [
    "● который позволит оценить долю (по сумме успешного депозита) пользователей с подтвержденной почтой, в Декабре 2023 года;"
   ]
  },
  {
   "cell_type": "markdown",
   "id": "1c9ae7a2",
   "metadata": {},
   "source": [
    " WITH confirmed_mail AS (\n",
    " SELECT distinct player_id\n",
    " FROM user_info\n",
    " WHERE email_verified != '1970-01-01'\n",
    " )\n",
    "\n",
    " SELECT \n",
    " SUM(amount_RUB) FILTER (WHERE player_id IN (SELECT player_id FROM confirmed_mail))/\n",
    " SUM(amount_RUB) AS share_users\n",
    " FROM payment_records\n",
    " WHERE \n",
    " payment_completed BETWEEN '2023-12-01' AND '2024-01-01'\n",
    " AND payment_successful=1;"
   ]
  },
  {
   "cell_type": "markdown",
   "id": "0afe012d",
   "metadata": {},
   "source": [
    "● который выведет для каждого пользователя среднее значение, нижний квартиль, медиану и верхний квартиль по времени между\n",
    "  успешными депозитами."
   ]
  },
  {
   "cell_type": "markdown",
   "id": "f4d13d77",
   "metadata": {},
   "source": [
    " WITH successful_deposits AS (\n",
    "    SELECT \n",
    "        player_id\n",
    "        ,payment_completed\n",
    "    FROM payment_records\n",
    "    WHERE payment_successful = 1\n",
    "    ORDER BY player_id, payment_completed\n",
    " ),\n",
    " time_differences AS (\n",
    "    SELECT \n",
    "       player_id\n",
    "      ,payment_completed - lag(payment_completed, 1) OVER (PARTITION BY player_id ORDER BY payment_completed) AS successful_time\n",
    "    FROM successful_deposits\n",
    "    WHERE lag(payment_completed, 1) OVER (PARTITION BY player_id ORDER BY payment_completed) IS NOT NULL\n",
    " )\n",
    " \n",
    " \n",
    " SELECT \n",
    "    player_id\n",
    "    ,AVG(successful_time) AS avg_time_between_deposits\n",
    "    ,quantiles(0.25, 0.5, 0.75)(successful_time) AS quantiles\n",
    " FROM time_differences\n",
    " GROUP BY player_id;"
   ]
  }
 ],
 "metadata": {
  "kernelspec": {
   "display_name": "Python 3 (ipykernel)",
   "language": "python",
   "name": "python3"
  },
  "language_info": {
   "codemirror_mode": {
    "name": "ipython",
    "version": 3
   },
   "file_extension": ".py",
   "mimetype": "text/x-python",
   "name": "python",
   "nbconvert_exporter": "python",
   "pygments_lexer": "ipython3",
   "version": "3.11.5"
  }
 },
 "nbformat": 4,
 "nbformat_minor": 5
}
