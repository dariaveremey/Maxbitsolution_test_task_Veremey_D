{
 "cells": [
  {
   "cell_type": "markdown",
   "id": "c3caef17",
   "metadata": {
    "id": "c3caef17"
   },
   "source": [
    "# Задание 3 (манипуляции данными в Python)"
   ]
  },
  {
   "cell_type": "markdown",
   "id": "a1de93dd",
   "metadata": {
    "id": "a1de93dd"
   },
   "source": [
    "<br>\n",
    "Есть таблица с действиями пользователей A/B-теста (<i>task_3_events.parquet</i>):"
   ]
  },
  {
   "cell_type": "markdown",
   "id": "b0c783d4",
   "metadata": {
    "id": "b0c783d4"
   },
   "source": [
    "$events$ - посещение пользователем сайта\n",
    "- $user\\_id$ - id юзера,\n",
    "- $user\\_group$ - группа A/B-теста,\n",
    "- $time$ - время совершения действия,"
   ]
  },
  {
   "cell_type": "markdown",
   "id": "ce9f94f3",
   "metadata": {
    "id": "ce9f94f3"
   },
   "source": [
    "Пользовательская сессия определяется по следующим правилам:\n",
    "<br>\n",
    "1. Новая сессия начинается после 30 минут бездействия."
   ]
  },
  {
   "cell_type": "markdown",
   "id": "44cd98bf",
   "metadata": {
    "id": "44cd98bf"
   },
   "source": [
    "<b>Постройте таблицу с сессиями юзеров в формате<b>:\n",
    "<br>\n",
    "- $user\\_id$ - id юзера\n",
    "- $ab\\_group$ - группа A/B-теста,\n",
    "- $session\\_start$ - время старта сессии,\n",
    "- $session\\_end$ - время окончания сессии,\n",
    "- $session\\_date$ - дата сессии."
   ]
  },
  {
   "cell_type": "code",
   "execution_count": 1,
   "id": "a0203cb4",
   "metadata": {},
   "outputs": [],
   "source": [
    "import pandas as pd\n",
    "import pyarrow.parquet as pq\n",
    "import seaborn as sns\n",
    "import scipy\n",
    "from scipy import stats\n",
    "from matplotlib import pyplot as plt\n",
    "from scipy.stats import mannwhitneyu"
   ]
  },
  {
   "cell_type": "code",
   "execution_count": 2,
   "id": "da74b9cf",
   "metadata": {},
   "outputs": [],
   "source": [
    "table = pq.read_table('task_3_events.parquet')\n",
    "data = table.to_pandas() "
   ]
  },
  {
   "cell_type": "code",
   "execution_count": 3,
   "id": "ca0d2c3c",
   "metadata": {},
   "outputs": [],
   "source": [
    "events = pd.DataFrame(data)"
   ]
  },
  {
   "cell_type": "code",
   "execution_count": 4,
   "id": "3cc82771",
   "metadata": {},
   "outputs": [],
   "source": [
    "events['time'] = pd.to_datetime(events['time'])"
   ]
  },
  {
   "cell_type": "code",
   "execution_count": 5,
   "id": "c3536ad5",
   "metadata": {
    "scrolled": true
   },
   "outputs": [
    {
     "data": {
      "text/html": [
       "<div>\n",
       "<style scoped>\n",
       "    .dataframe tbody tr th:only-of-type {\n",
       "        vertical-align: middle;\n",
       "    }\n",
       "\n",
       "    .dataframe tbody tr th {\n",
       "        vertical-align: top;\n",
       "    }\n",
       "\n",
       "    .dataframe thead th {\n",
       "        text-align: right;\n",
       "    }\n",
       "</style>\n",
       "<table border=\"1\" class=\"dataframe\">\n",
       "  <thead>\n",
       "    <tr style=\"text-align: right;\">\n",
       "      <th></th>\n",
       "      <th>user_id</th>\n",
       "      <th>user_group</th>\n",
       "      <th>time</th>\n",
       "    </tr>\n",
       "  </thead>\n",
       "  <tbody>\n",
       "    <tr>\n",
       "      <th>0</th>\n",
       "      <td>test_user_68722185</td>\n",
       "      <td>0</td>\n",
       "      <td>2023-12-01 00:00:02.465889</td>\n",
       "    </tr>\n",
       "    <tr>\n",
       "      <th>1</th>\n",
       "      <td>test_user_50279722</td>\n",
       "      <td>1</td>\n",
       "      <td>2023-12-01 00:00:02.490361</td>\n",
       "    </tr>\n",
       "    <tr>\n",
       "      <th>2</th>\n",
       "      <td>test_user_68722185</td>\n",
       "      <td>0</td>\n",
       "      <td>2023-12-01 00:00:03.803897</td>\n",
       "    </tr>\n",
       "    <tr>\n",
       "      <th>3</th>\n",
       "      <td>test_user_68721973</td>\n",
       "      <td>0</td>\n",
       "      <td>2023-12-01 00:00:03.821829</td>\n",
       "    </tr>\n",
       "    <tr>\n",
       "      <th>4</th>\n",
       "      <td>test_user_68721973</td>\n",
       "      <td>0</td>\n",
       "      <td>2023-12-01 00:00:03.854164</td>\n",
       "    </tr>\n",
       "  </tbody>\n",
       "</table>\n",
       "</div>"
      ],
      "text/plain": [
       "              user_id  user_group                       time\n",
       "0  test_user_68722185           0 2023-12-01 00:00:02.465889\n",
       "1  test_user_50279722           1 2023-12-01 00:00:02.490361\n",
       "2  test_user_68722185           0 2023-12-01 00:00:03.803897\n",
       "3  test_user_68721973           0 2023-12-01 00:00:03.821829\n",
       "4  test_user_68721973           0 2023-12-01 00:00:03.854164"
      ]
     },
     "execution_count": 5,
     "metadata": {},
     "output_type": "execute_result"
    }
   ],
   "source": [
    "events.head()"
   ]
  },
  {
   "cell_type": "code",
   "execution_count": 6,
   "id": "fe8bf288",
   "metadata": {},
   "outputs": [],
   "source": [
    "df = events.copy()"
   ]
  },
  {
   "cell_type": "code",
   "execution_count": 7,
   "id": "f3937477",
   "metadata": {},
   "outputs": [],
   "source": [
    "df = df.sort_values(by=['user_id', 'time']).reset_index(drop=True)"
   ]
  },
  {
   "cell_type": "code",
   "execution_count": 8,
   "id": "f10c3223",
   "metadata": {},
   "outputs": [
    {
     "data": {
      "text/html": [
       "<div>\n",
       "<style scoped>\n",
       "    .dataframe tbody tr th:only-of-type {\n",
       "        vertical-align: middle;\n",
       "    }\n",
       "\n",
       "    .dataframe tbody tr th {\n",
       "        vertical-align: top;\n",
       "    }\n",
       "\n",
       "    .dataframe thead th {\n",
       "        text-align: right;\n",
       "    }\n",
       "</style>\n",
       "<table border=\"1\" class=\"dataframe\">\n",
       "  <thead>\n",
       "    <tr style=\"text-align: right;\">\n",
       "      <th></th>\n",
       "      <th>user_id</th>\n",
       "      <th>user_group</th>\n",
       "      <th>time</th>\n",
       "    </tr>\n",
       "  </thead>\n",
       "  <tbody>\n",
       "    <tr>\n",
       "      <th>0</th>\n",
       "      <td>test_user_10021823</td>\n",
       "      <td>1</td>\n",
       "      <td>2023-12-07 01:08:51.008309</td>\n",
       "    </tr>\n",
       "    <tr>\n",
       "      <th>1</th>\n",
       "      <td>test_user_10021823</td>\n",
       "      <td>1</td>\n",
       "      <td>2023-12-07 01:08:53.085064</td>\n",
       "    </tr>\n",
       "    <tr>\n",
       "      <th>2</th>\n",
       "      <td>test_user_10021823</td>\n",
       "      <td>1</td>\n",
       "      <td>2023-12-07 01:08:56.702185</td>\n",
       "    </tr>\n",
       "    <tr>\n",
       "      <th>3</th>\n",
       "      <td>test_user_10021823</td>\n",
       "      <td>1</td>\n",
       "      <td>2023-12-07 01:08:57.730887</td>\n",
       "    </tr>\n",
       "    <tr>\n",
       "      <th>4</th>\n",
       "      <td>test_user_10021823</td>\n",
       "      <td>1</td>\n",
       "      <td>2023-12-07 01:08:57.808475</td>\n",
       "    </tr>\n",
       "  </tbody>\n",
       "</table>\n",
       "</div>"
      ],
      "text/plain": [
       "              user_id  user_group                       time\n",
       "0  test_user_10021823           1 2023-12-07 01:08:51.008309\n",
       "1  test_user_10021823           1 2023-12-07 01:08:53.085064\n",
       "2  test_user_10021823           1 2023-12-07 01:08:56.702185\n",
       "3  test_user_10021823           1 2023-12-07 01:08:57.730887\n",
       "4  test_user_10021823           1 2023-12-07 01:08:57.808475"
      ]
     },
     "execution_count": 8,
     "metadata": {},
     "output_type": "execute_result"
    }
   ],
   "source": [
    "df.head()"
   ]
  },
  {
   "cell_type": "code",
   "execution_count": 9,
   "id": "25a457ad",
   "metadata": {
    "scrolled": true
   },
   "outputs": [],
   "source": [
    "df['time_diff'] = df.groupby('user_id')['time'].diff().dt.total_seconds()"
   ]
  },
  {
   "cell_type": "code",
   "execution_count": 10,
   "id": "644831b5",
   "metadata": {},
   "outputs": [],
   "source": [
    "df['new_session'] = (df['time_diff'] > 30 * 60) | (df['time_diff'].isna())"
   ]
  },
  {
   "cell_type": "code",
   "execution_count": 11,
   "id": "faf68369",
   "metadata": {},
   "outputs": [],
   "source": [
    "df.rename(columns={'user_group': 'ab_group'}, inplace=True)"
   ]
  },
  {
   "cell_type": "code",
   "execution_count": 12,
   "id": "ded2ba5e",
   "metadata": {
    "scrolled": false
   },
   "outputs": [],
   "source": [
    "df['session_id'] = (df['new_session'].cumsum().astype(int))"
   ]
  },
  {
   "cell_type": "code",
   "execution_count": 13,
   "id": "fbded1a5",
   "metadata": {
    "scrolled": false
   },
   "outputs": [
    {
     "data": {
      "text/html": [
       "<div>\n",
       "<style scoped>\n",
       "    .dataframe tbody tr th:only-of-type {\n",
       "        vertical-align: middle;\n",
       "    }\n",
       "\n",
       "    .dataframe tbody tr th {\n",
       "        vertical-align: top;\n",
       "    }\n",
       "\n",
       "    .dataframe thead th {\n",
       "        text-align: right;\n",
       "    }\n",
       "</style>\n",
       "<table border=\"1\" class=\"dataframe\">\n",
       "  <thead>\n",
       "    <tr style=\"text-align: right;\">\n",
       "      <th></th>\n",
       "      <th>user_id</th>\n",
       "      <th>ab_group</th>\n",
       "      <th>time</th>\n",
       "      <th>time_diff</th>\n",
       "      <th>new_session</th>\n",
       "      <th>session_id</th>\n",
       "    </tr>\n",
       "  </thead>\n",
       "  <tbody>\n",
       "    <tr>\n",
       "      <th>0</th>\n",
       "      <td>test_user_10021823</td>\n",
       "      <td>1</td>\n",
       "      <td>2023-12-07 01:08:51.008309</td>\n",
       "      <td>NaN</td>\n",
       "      <td>True</td>\n",
       "      <td>1</td>\n",
       "    </tr>\n",
       "    <tr>\n",
       "      <th>1</th>\n",
       "      <td>test_user_10021823</td>\n",
       "      <td>1</td>\n",
       "      <td>2023-12-07 01:08:53.085064</td>\n",
       "      <td>2.076755</td>\n",
       "      <td>False</td>\n",
       "      <td>1</td>\n",
       "    </tr>\n",
       "    <tr>\n",
       "      <th>2</th>\n",
       "      <td>test_user_10021823</td>\n",
       "      <td>1</td>\n",
       "      <td>2023-12-07 01:08:56.702185</td>\n",
       "      <td>3.617121</td>\n",
       "      <td>False</td>\n",
       "      <td>1</td>\n",
       "    </tr>\n",
       "    <tr>\n",
       "      <th>3</th>\n",
       "      <td>test_user_10021823</td>\n",
       "      <td>1</td>\n",
       "      <td>2023-12-07 01:08:57.730887</td>\n",
       "      <td>1.028702</td>\n",
       "      <td>False</td>\n",
       "      <td>1</td>\n",
       "    </tr>\n",
       "    <tr>\n",
       "      <th>4</th>\n",
       "      <td>test_user_10021823</td>\n",
       "      <td>1</td>\n",
       "      <td>2023-12-07 01:08:57.808475</td>\n",
       "      <td>0.077588</td>\n",
       "      <td>False</td>\n",
       "      <td>1</td>\n",
       "    </tr>\n",
       "  </tbody>\n",
       "</table>\n",
       "</div>"
      ],
      "text/plain": [
       "              user_id  ab_group                       time  time_diff  \\\n",
       "0  test_user_10021823         1 2023-12-07 01:08:51.008309        NaN   \n",
       "1  test_user_10021823         1 2023-12-07 01:08:53.085064   2.076755   \n",
       "2  test_user_10021823         1 2023-12-07 01:08:56.702185   3.617121   \n",
       "3  test_user_10021823         1 2023-12-07 01:08:57.730887   1.028702   \n",
       "4  test_user_10021823         1 2023-12-07 01:08:57.808475   0.077588   \n",
       "\n",
       "   new_session  session_id  \n",
       "0         True           1  \n",
       "1        False           1  \n",
       "2        False           1  \n",
       "3        False           1  \n",
       "4        False           1  "
      ]
     },
     "execution_count": 13,
     "metadata": {},
     "output_type": "execute_result"
    }
   ],
   "source": [
    "df.head()"
   ]
  },
  {
   "cell_type": "code",
   "execution_count": 14,
   "id": "39fa25c0",
   "metadata": {},
   "outputs": [],
   "source": [
    "sessions = (df.groupby(['user_id', 'ab_group', 'session_id'])\n",
    "    .agg(\n",
    "        session_start=('time', 'min'),\n",
    "        session_end=('time', 'max'),\n",
    "        session_date=('time', lambda x: x.iloc[0].date())\n",
    "    )\n",
    "    .reset_index()\n",
    ")"
   ]
  },
  {
   "cell_type": "code",
   "execution_count": 15,
   "id": "f82f1802",
   "metadata": {},
   "outputs": [
    {
     "data": {
      "text/html": [
       "<div>\n",
       "<style scoped>\n",
       "    .dataframe tbody tr th:only-of-type {\n",
       "        vertical-align: middle;\n",
       "    }\n",
       "\n",
       "    .dataframe tbody tr th {\n",
       "        vertical-align: top;\n",
       "    }\n",
       "\n",
       "    .dataframe thead th {\n",
       "        text-align: right;\n",
       "    }\n",
       "</style>\n",
       "<table border=\"1\" class=\"dataframe\">\n",
       "  <thead>\n",
       "    <tr style=\"text-align: right;\">\n",
       "      <th></th>\n",
       "      <th>user_id</th>\n",
       "      <th>user_group</th>\n",
       "      <th>time</th>\n",
       "    </tr>\n",
       "  </thead>\n",
       "  <tbody>\n",
       "    <tr>\n",
       "      <th>0</th>\n",
       "      <td>test_user_68722185</td>\n",
       "      <td>0</td>\n",
       "      <td>2023-12-01 00:00:02.465889</td>\n",
       "    </tr>\n",
       "    <tr>\n",
       "      <th>1</th>\n",
       "      <td>test_user_50279722</td>\n",
       "      <td>1</td>\n",
       "      <td>2023-12-01 00:00:02.490361</td>\n",
       "    </tr>\n",
       "    <tr>\n",
       "      <th>2</th>\n",
       "      <td>test_user_68722185</td>\n",
       "      <td>0</td>\n",
       "      <td>2023-12-01 00:00:03.803897</td>\n",
       "    </tr>\n",
       "    <tr>\n",
       "      <th>3</th>\n",
       "      <td>test_user_68721973</td>\n",
       "      <td>0</td>\n",
       "      <td>2023-12-01 00:00:03.821829</td>\n",
       "    </tr>\n",
       "    <tr>\n",
       "      <th>4</th>\n",
       "      <td>test_user_68721973</td>\n",
       "      <td>0</td>\n",
       "      <td>2023-12-01 00:00:03.854164</td>\n",
       "    </tr>\n",
       "  </tbody>\n",
       "</table>\n",
       "</div>"
      ],
      "text/plain": [
       "              user_id  user_group                       time\n",
       "0  test_user_68722185           0 2023-12-01 00:00:02.465889\n",
       "1  test_user_50279722           1 2023-12-01 00:00:02.490361\n",
       "2  test_user_68722185           0 2023-12-01 00:00:03.803897\n",
       "3  test_user_68721973           0 2023-12-01 00:00:03.821829\n",
       "4  test_user_68721973           0 2023-12-01 00:00:03.854164"
      ]
     },
     "execution_count": 15,
     "metadata": {},
     "output_type": "execute_result"
    }
   ],
   "source": [
    "events.head()"
   ]
  },
  {
   "cell_type": "code",
   "execution_count": 16,
   "id": "17147717",
   "metadata": {},
   "outputs": [
    {
     "data": {
      "text/html": [
       "<div>\n",
       "<style scoped>\n",
       "    .dataframe tbody tr th:only-of-type {\n",
       "        vertical-align: middle;\n",
       "    }\n",
       "\n",
       "    .dataframe tbody tr th {\n",
       "        vertical-align: top;\n",
       "    }\n",
       "\n",
       "    .dataframe thead th {\n",
       "        text-align: right;\n",
       "    }\n",
       "</style>\n",
       "<table border=\"1\" class=\"dataframe\">\n",
       "  <thead>\n",
       "    <tr style=\"text-align: right;\">\n",
       "      <th></th>\n",
       "      <th>user_id</th>\n",
       "      <th>ab_group</th>\n",
       "      <th>session_id</th>\n",
       "      <th>session_start</th>\n",
       "      <th>session_end</th>\n",
       "      <th>session_date</th>\n",
       "    </tr>\n",
       "  </thead>\n",
       "  <tbody>\n",
       "    <tr>\n",
       "      <th>0</th>\n",
       "      <td>test_user_10021823</td>\n",
       "      <td>1</td>\n",
       "      <td>1</td>\n",
       "      <td>2023-12-07 01:08:51.008309</td>\n",
       "      <td>2023-12-07 01:10:11.804765</td>\n",
       "      <td>2023-12-07</td>\n",
       "    </tr>\n",
       "    <tr>\n",
       "      <th>1</th>\n",
       "      <td>test_user_10030144</td>\n",
       "      <td>0</td>\n",
       "      <td>2</td>\n",
       "      <td>2023-12-02 20:37:34.861127</td>\n",
       "      <td>2023-12-02 20:38:14.301560</td>\n",
       "      <td>2023-12-02</td>\n",
       "    </tr>\n",
       "    <tr>\n",
       "      <th>2</th>\n",
       "      <td>test_user_1003396</td>\n",
       "      <td>1</td>\n",
       "      <td>3</td>\n",
       "      <td>2023-12-01 00:00:48.238407</td>\n",
       "      <td>2023-12-01 00:01:41.376842</td>\n",
       "      <td>2023-12-01</td>\n",
       "    </tr>\n",
       "    <tr>\n",
       "      <th>3</th>\n",
       "      <td>test_user_1003396</td>\n",
       "      <td>1</td>\n",
       "      <td>4</td>\n",
       "      <td>2023-12-02 08:21:13.134305</td>\n",
       "      <td>2023-12-02 08:35:03.351138</td>\n",
       "      <td>2023-12-02</td>\n",
       "    </tr>\n",
       "    <tr>\n",
       "      <th>4</th>\n",
       "      <td>test_user_1003396</td>\n",
       "      <td>1</td>\n",
       "      <td>5</td>\n",
       "      <td>2023-12-02 21:12:09.512252</td>\n",
       "      <td>2023-12-02 21:34:53.437896</td>\n",
       "      <td>2023-12-02</td>\n",
       "    </tr>\n",
       "  </tbody>\n",
       "</table>\n",
       "</div>"
      ],
      "text/plain": [
       "              user_id  ab_group  session_id              session_start  \\\n",
       "0  test_user_10021823         1           1 2023-12-07 01:08:51.008309   \n",
       "1  test_user_10030144         0           2 2023-12-02 20:37:34.861127   \n",
       "2   test_user_1003396         1           3 2023-12-01 00:00:48.238407   \n",
       "3   test_user_1003396         1           4 2023-12-02 08:21:13.134305   \n",
       "4   test_user_1003396         1           5 2023-12-02 21:12:09.512252   \n",
       "\n",
       "                 session_end session_date  \n",
       "0 2023-12-07 01:10:11.804765   2023-12-07  \n",
       "1 2023-12-02 20:38:14.301560   2023-12-02  \n",
       "2 2023-12-01 00:01:41.376842   2023-12-01  \n",
       "3 2023-12-02 08:35:03.351138   2023-12-02  \n",
       "4 2023-12-02 21:34:53.437896   2023-12-02  "
      ]
     },
     "execution_count": 16,
     "metadata": {},
     "output_type": "execute_result"
    }
   ],
   "source": [
    "sessions.head()"
   ]
  },
  {
   "cell_type": "markdown",
   "id": "b364657f",
   "metadata": {
    "id": "b364657f"
   },
   "source": [
    "# Задание 3 (оценка АБ-теста)"
   ]
  },
  {
   "cell_type": "markdown",
   "id": "5f6e75be",
   "metadata": {
    "id": "5f6e75be"
   },
   "source": [
    "Был проведен A/B-тест.\n",
    "<br>\n",
    "В качестве данных используйте таблицу, построенную в предыдущем задании. Первая сессия юзера считается моментом попадания в A/B-тест.\n",
    "<br><br>\n",
    "Ключевая метрика эксперимента - конверсия во вторую сессию.\n",
    "<br>\n",
    "Сделайте вывод о том, какая группа выиграла в A/B-тесте. Ответ обоснуйте.\n",
    "<br>"
   ]
  },
  {
   "cell_type": "code",
   "execution_count": 17,
   "id": "1b0d3744",
   "metadata": {},
   "outputs": [
    {
     "data": {
      "text/plain": [
       "ab_group\n",
       "0    0.504632\n",
       "1    0.495368\n",
       "Name: proportion, dtype: float64"
      ]
     },
     "execution_count": 17,
     "metadata": {},
     "output_type": "execute_result"
    }
   ],
   "source": [
    "sessions.ab_group.value_counts(normalize=True)"
   ]
  },
  {
   "cell_type": "code",
   "execution_count": 18,
   "id": "4b02cfe4",
   "metadata": {},
   "outputs": [
    {
     "data": {
      "text/html": [
       "<div>\n",
       "<style scoped>\n",
       "    .dataframe tbody tr th:only-of-type {\n",
       "        vertical-align: middle;\n",
       "    }\n",
       "\n",
       "    .dataframe tbody tr th {\n",
       "        vertical-align: top;\n",
       "    }\n",
       "\n",
       "    .dataframe thead th {\n",
       "        text-align: right;\n",
       "    }\n",
       "</style>\n",
       "<table border=\"1\" class=\"dataframe\">\n",
       "  <thead>\n",
       "    <tr style=\"text-align: right;\">\n",
       "      <th></th>\n",
       "      <th>ab_group</th>\n",
       "      <th>count</th>\n",
       "      <th>nunique</th>\n",
       "    </tr>\n",
       "  </thead>\n",
       "  <tbody>\n",
       "    <tr>\n",
       "      <th>0</th>\n",
       "      <td>0</td>\n",
       "      <td>12638</td>\n",
       "      <td>7429</td>\n",
       "    </tr>\n",
       "    <tr>\n",
       "      <th>1</th>\n",
       "      <td>1</td>\n",
       "      <td>12406</td>\n",
       "      <td>7399</td>\n",
       "    </tr>\n",
       "  </tbody>\n",
       "</table>\n",
       "</div>"
      ],
      "text/plain": [
       "   ab_group  count  nunique\n",
       "0         0  12638     7429\n",
       "1         1  12406     7399"
      ]
     },
     "execution_count": 18,
     "metadata": {},
     "output_type": "execute_result"
    }
   ],
   "source": [
    "sessions.groupby('ab_group', as_index=False)['user_id'].agg(['count','nunique'])"
   ]
  },
  {
   "cell_type": "code",
   "execution_count": 19,
   "id": "38180ee1",
   "metadata": {},
   "outputs": [
    {
     "data": {
      "text/plain": [
       "user_id          0\n",
       "ab_group         0\n",
       "session_id       0\n",
       "session_start    0\n",
       "session_end      0\n",
       "session_date     0\n",
       "dtype: int64"
      ]
     },
     "execution_count": 19,
     "metadata": {},
     "output_type": "execute_result"
    }
   ],
   "source": [
    "sessions.isna().sum()"
   ]
  },
  {
   "cell_type": "code",
   "execution_count": 20,
   "id": "db6cfd20",
   "metadata": {},
   "outputs": [],
   "source": [
    "sessions['time_diff'] = sessions.groupby('user_id')['session_start'].diff().dt.total_seconds()"
   ]
  },
  {
   "cell_type": "code",
   "execution_count": 21,
   "id": "6b62f295",
   "metadata": {
    "scrolled": false
   },
   "outputs": [
    {
     "data": {
      "image/png": "[encoded data removed]",
      "text/plain": [
       "<Figure size 640x480 with 1 Axes>"
      ]
     },
     "metadata": {},
     "output_type": "display_data"
    }
   ],
   "source": [
    "sns.histplot(data=sessions[sessions['session_id'] > 1],x='time_diff', hue='ab_group')\n",
    "\n",
    "plt.title('time between sessions')\n",
    "plt.xlabel('time difference')\n",
    "plt.ylabel('frequency')\n",
    "plt.show()"
   ]
  },
  {
   "cell_type": "markdown",
   "id": "3c8de806",
   "metadata": {},
   "source": [
    "На графике видно, что **\"хвост\" достаточно большой**, что говорит о сильной асимметрии в данных. \n",
    "В таких случаях целесообразно использовать **Mann–Whitney U test**, так как он не требует нормальности распределения данных."
   ]
  },
  {
   "cell_type": "code",
   "execution_count": 22,
   "id": "e1785f2e",
   "metadata": {
    "scrolled": false
   },
   "outputs": [],
   "source": [
    "user_session_counts = sessions.groupby(['user_id', 'ab_group']).size().reset_index(name='session_count')"
   ]
  },
  {
   "cell_type": "code",
   "execution_count": 23,
   "id": "bd942403",
   "metadata": {},
   "outputs": [],
   "source": [
    "second_session_counts = user_session_counts[user_session_counts['session_count'] > 1] \\\n",
    "    .groupby('ab_group')['user_id'].nunique() \\\n",
    "    .reset_index(name='second_session_users')"
   ]
  },
  {
   "cell_type": "code",
   "execution_count": 24,
   "id": "a13adf79",
   "metadata": {},
   "outputs": [],
   "source": [
    "group_totals = sessions.groupby('ab_group')['user_id'].nunique().reset_index(name='total_users')"
   ]
  },
  {
   "cell_type": "code",
   "execution_count": 25,
   "id": "588ba954",
   "metadata": {},
   "outputs": [],
   "source": [
    "results = group_totals.merge(second_session_counts, on='ab_group', how='left').fillna(0)\n",
    "results['conversion_rate'] = results['second_session_users'] / results['total_users']"
   ]
  },
  {
   "cell_type": "code",
   "execution_count": 26,
   "id": "5501a447",
   "metadata": {},
   "outputs": [
    {
     "data": {
      "text/html": [
       "<div>\n",
       "<style scoped>\n",
       "    .dataframe tbody tr th:only-of-type {\n",
       "        vertical-align: middle;\n",
       "    }\n",
       "\n",
       "    .dataframe tbody tr th {\n",
       "        vertical-align: top;\n",
       "    }\n",
       "\n",
       "    .dataframe thead th {\n",
       "        text-align: right;\n",
       "    }\n",
       "</style>\n",
       "<table border=\"1\" class=\"dataframe\">\n",
       "  <thead>\n",
       "    <tr style=\"text-align: right;\">\n",
       "      <th></th>\n",
       "      <th>ab_group</th>\n",
       "      <th>total_users</th>\n",
       "      <th>second_session_users</th>\n",
       "      <th>conversion_rate</th>\n",
       "    </tr>\n",
       "  </thead>\n",
       "  <tbody>\n",
       "    <tr>\n",
       "      <th>0</th>\n",
       "      <td>0</td>\n",
       "      <td>7429</td>\n",
       "      <td>1833</td>\n",
       "      <td>0.246736</td>\n",
       "    </tr>\n",
       "    <tr>\n",
       "      <th>1</th>\n",
       "      <td>1</td>\n",
       "      <td>7399</td>\n",
       "      <td>1850</td>\n",
       "      <td>0.250034</td>\n",
       "    </tr>\n",
       "  </tbody>\n",
       "</table>\n",
       "</div>"
      ],
      "text/plain": [
       "   ab_group  total_users  second_session_users  conversion_rate\n",
       "0         0         7429                  1833         0.246736\n",
       "1         1         7399                  1850         0.250034"
      ]
     },
     "execution_count": 26,
     "metadata": {},
     "output_type": "execute_result"
    }
   ],
   "source": [
    "results"
   ]
  },
  {
   "cell_type": "code",
   "execution_count": 27,
   "id": "3791faaf",
   "metadata": {},
   "outputs": [
    {
     "data": {
      "image/png": "[encoded data removed]",
      "text/plain": [
       "<Figure size 640x480 with 1 Axes>"
      ]
     },
     "metadata": {},
     "output_type": "display_data"
    }
   ],
   "source": [
    "plt.bar(results['ab_group'], results['conversion_rate'], color=['blue', 'green'])\n",
    "\n",
    "plt.title('conversion rate ab_group')\n",
    "plt.ylabel('conversion rate')\n",
    "plt.ylim(0, 1)\n",
    "plt.show()"
   ]
  },
  {
   "cell_type": "markdown",
   "id": "8192b71c",
   "metadata": {},
   "source": [
    "# Выводы"
   ]
  },
  {
   "cell_type": "markdown",
   "id": "27ae9d14",
   "metadata": {},
   "source": [
    "- **P-value > 0.05**, что указывает на **отсутствие статистически значимых различий** между группами. \n",
    "- Следовательно, проведенный эксперимент **не выявил значимого влияния изменений на ключевую метрику**."
   ]
  }
 ],
 "metadata": {
  "colab": {
   "provenance": []
  },
  "kernelspec": {
   "display_name": "Python 3 (ipykernel)",
   "language": "python",
   "name": "python3"
  },
  "language_info": {
   "codemirror_mode": {
    "name": "ipython",
    "version": 3
   },
   "file_extension": ".py",
   "mimetype": "text/x-python",
   "name": "python",
   "nbconvert_exporter": "python",
   "pygments_lexer": "ipython3",
   "version": "3.11.5"
  },
  "toc": {
   "base_numbering": 1,
   "nav_menu": {},
   "number_sections": true,
   "sideBar": true,
   "skip_h1_title": false,
   "title_cell": "Table of Contents",
   "title_sidebar": "Contents",
   "toc_cell": false,
   "toc_position": {},
   "toc_section_display": true,
   "toc_window_display": false
  },
  "varInspector": {
   "cols": {
    "lenName": 16,
    "lenType": 16,
    "lenVar": 40
   },
   "kernels_config": {
    "python": {
     "delete_cmd_postfix": "",
     "delete_cmd_prefix": "del ",
     "library": "var_list.py",
     "varRefreshCmd": "print(var_dic_list())"
    },
    "r": {
     "delete_cmd_postfix": ") ",
     "delete_cmd_prefix": "rm(",
     "library": "var_list.r",
     "varRefreshCmd": "cat(var_dic_list()) "
    }
   },
   "types_to_exclude": [
    "module",
    "function",
    "builtin_function_or_method",
    "instance",
    "_Feature"
   ],
   "window_display": false
  }
 },
 "nbformat": 4,
 "nbformat_minor": 5
}
